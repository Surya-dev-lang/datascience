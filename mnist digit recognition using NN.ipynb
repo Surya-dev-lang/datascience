{
  "nbformat": 4,
  "nbformat_minor": 0,
  "metadata": {
    "colab": {
      "name": "Untitled0.ipynb",
      "provenance": [],
      "include_colab_link": true
    },
    "kernelspec": {
      "name": "python3",
      "display_name": "Python 3"
    }
  },
  "cells": [
    {
      "cell_type": "markdown",
      "metadata": {
        "id": "view-in-github",
        "colab_type": "text"
      },
      "source": [
        "<a href=\"https://colab.research.google.com/github/Surya-dev-lang/datascience/blob/master/mnist%20digit%20recognition%20using%20NN.ipynb\" target=\"_parent\"><img src=\"https://colab.research.google.com/assets/colab-badge.svg\" alt=\"Open In Colab\"/></a>"
      ]
    },
    {
      "cell_type": "code",
      "metadata": {
        "id": "Aqmz0W1FVt7X",
        "colab_type": "code",
        "colab": {}
      },
      "source": [
        "import keras\n",
        "from keras.datasets import mnist\n",
        "from keras.layers import Dense\n",
        "from keras.models import Sequential"
      ],
      "execution_count": 0,
      "outputs": []
    },
    {
      "cell_type": "code",
      "metadata": {
        "id": "B61AclYqWtlQ",
        "colab_type": "code",
        "colab": {}
      },
      "source": [
        "batch_size = 128\n",
        "num_classes = 10\n",
        "epochs = 20"
      ],
      "execution_count": 0,
      "outputs": []
    },
    {
      "cell_type": "code",
      "metadata": {
        "id": "Ga5OU_WHW_O1",
        "colab_type": "code",
        "colab": {}
      },
      "source": [
        "def get_data():\n",
        "  (x_train,y_train), (x_test, y_test) = mnist.load_data()\n",
        "  x_train = x_train.reshape(60000, 784)\n",
        "  x_test = x_test.reshape(10000, 784)\n",
        "  x_train = x_train.astype('float32')\n",
        "  x_test = x_test.astype('float32')\n",
        "  x_train /= 255\n",
        "  x_test /= 255\n",
        "  print(x_train.shape, 'train samples')\n",
        "  print(x_test.shape, 'train samples')\n",
        "\n",
        "  y_train = keras.utils.to_categorical(y_train, num_classes)\n",
        "  y_test =  keras.utils.to_categorical(y_test, num_classes)\n",
        "\n",
        "  return (x_train, y_train), (x_test, y_test)"
      ],
      "execution_count": 0,
      "outputs": []
    },
    {
      "cell_type": "code",
      "metadata": {
        "id": "u_XWy833bhTa",
        "colab_type": "code",
        "colab": {
          "base_uri": "https://localhost:8080/",
          "height": 527
        },
        "outputId": "c006f1a4-932c-49a6-8447-dab5099aa468"
      },
      "source": [
        "get_data()"
      ],
      "execution_count": 22,
      "outputs": [
        {
          "output_type": "stream",
          "text": [
            "(60000, 784) train samples\n",
            "(10000, 784) train samples\n"
          ],
          "name": "stdout"
        },
        {
          "output_type": "execute_result",
          "data": {
            "text/plain": [
              "((array([[0., 0., 0., ..., 0., 0., 0.],\n",
              "         [0., 0., 0., ..., 0., 0., 0.],\n",
              "         [0., 0., 0., ..., 0., 0., 0.],\n",
              "         ...,\n",
              "         [0., 0., 0., ..., 0., 0., 0.],\n",
              "         [0., 0., 0., ..., 0., 0., 0.],\n",
              "         [0., 0., 0., ..., 0., 0., 0.]], dtype=float32),\n",
              "  array([[0., 0., 0., ..., 0., 0., 0.],\n",
              "         [1., 0., 0., ..., 0., 0., 0.],\n",
              "         [0., 0., 0., ..., 0., 0., 0.],\n",
              "         ...,\n",
              "         [0., 0., 0., ..., 0., 0., 0.],\n",
              "         [0., 0., 0., ..., 0., 0., 0.],\n",
              "         [0., 0., 0., ..., 0., 1., 0.]], dtype=float32)),\n",
              " (array([[0., 0., 0., ..., 0., 0., 0.],\n",
              "         [0., 0., 0., ..., 0., 0., 0.],\n",
              "         [0., 0., 0., ..., 0., 0., 0.],\n",
              "         ...,\n",
              "         [0., 0., 0., ..., 0., 0., 0.],\n",
              "         [0., 0., 0., ..., 0., 0., 0.],\n",
              "         [0., 0., 0., ..., 0., 0., 0.]], dtype=float32),\n",
              "  array([[0., 0., 0., ..., 1., 0., 0.],\n",
              "         [0., 0., 1., ..., 0., 0., 0.],\n",
              "         [0., 1., 0., ..., 0., 0., 0.],\n",
              "         ...,\n",
              "         [0., 0., 0., ..., 0., 0., 0.],\n",
              "         [0., 0., 0., ..., 0., 0., 0.],\n",
              "         [0., 0., 0., ..., 0., 0., 0.]], dtype=float32)))"
            ]
          },
          "metadata": {
            "tags": []
          },
          "execution_count": 22
        }
      ]
    },
    {
      "cell_type": "code",
      "metadata": {
        "id": "ZKbrXVzrbxt7",
        "colab_type": "code",
        "colab": {
          "base_uri": "https://localhost:8080/",
          "height": 139
        },
        "outputId": "160a65e7-cf83-4dfc-f74c-2dc13fc6ed23"
      },
      "source": [
        "model = Sequential()\n",
        "model.add(Dense(512, activation='relu', input_shape=(784,)))\n",
        "model.add(Dense(512, activation='relu'))\n",
        "model.add(Dense(10, activation='softmax'))"
      ],
      "execution_count": 23,
      "outputs": [
        {
          "output_type": "stream",
          "text": [
            "WARNING:tensorflow:From /usr/local/lib/python3.6/dist-packages/keras/backend/tensorflow_backend.py:66: The name tf.get_default_graph is deprecated. Please use tf.compat.v1.get_default_graph instead.\n",
            "\n",
            "WARNING:tensorflow:From /usr/local/lib/python3.6/dist-packages/keras/backend/tensorflow_backend.py:541: The name tf.placeholder is deprecated. Please use tf.compat.v1.placeholder instead.\n",
            "\n",
            "WARNING:tensorflow:From /usr/local/lib/python3.6/dist-packages/keras/backend/tensorflow_backend.py:4432: The name tf.random_uniform is deprecated. Please use tf.random.uniform instead.\n",
            "\n"
          ],
          "name": "stdout"
        }
      ]
    },
    {
      "cell_type": "code",
      "metadata": {
        "id": "fhgkpgJUcaPM",
        "colab_type": "code",
        "colab": {
          "base_uri": "https://localhost:8080/",
          "height": 255
        },
        "outputId": "91989920-f8d8-4bd2-d449-243da3078146"
      },
      "source": [
        "model.summary()"
      ],
      "execution_count": 24,
      "outputs": [
        {
          "output_type": "stream",
          "text": [
            "Model: \"sequential_1\"\n",
            "_________________________________________________________________\n",
            "Layer (type)                 Output Shape              Param #   \n",
            "=================================================================\n",
            "dense_1 (Dense)              (None, 512)               401920    \n",
            "_________________________________________________________________\n",
            "dense_2 (Dense)              (None, 512)               262656    \n",
            "_________________________________________________________________\n",
            "dense_3 (Dense)              (None, 10)                5130      \n",
            "=================================================================\n",
            "Total params: 669,706\n",
            "Trainable params: 669,706\n",
            "Non-trainable params: 0\n",
            "_________________________________________________________________\n"
          ],
          "name": "stdout"
        }
      ]
    },
    {
      "cell_type": "code",
      "metadata": {
        "id": "TURQF0D0ciIr",
        "colab_type": "code",
        "colab": {
          "base_uri": "https://localhost:8080/",
          "height": 105
        },
        "outputId": "de4ae2d7-0034-4db4-e1fb-99d51e3c550c"
      },
      "source": [
        "model.compile(loss='categorical_crossentropy',\n",
        "              optimizer = 'adam',\n",
        "              metrics = ['accuracy'])"
      ],
      "execution_count": 25,
      "outputs": [
        {
          "output_type": "stream",
          "text": [
            "WARNING:tensorflow:From /usr/local/lib/python3.6/dist-packages/keras/optimizers.py:793: The name tf.train.Optimizer is deprecated. Please use tf.compat.v1.train.Optimizer instead.\n",
            "\n",
            "WARNING:tensorflow:From /usr/local/lib/python3.6/dist-packages/keras/backend/tensorflow_backend.py:3576: The name tf.log is deprecated. Please use tf.math.log instead.\n",
            "\n"
          ],
          "name": "stdout"
        }
      ]
    },
    {
      "cell_type": "code",
      "metadata": {
        "id": "L0uXTTH9dZ_3",
        "colab_type": "code",
        "colab": {
          "base_uri": "https://localhost:8080/",
          "height": 51
        },
        "outputId": "af095ca5-ff24-45fd-87c5-718e16c13ebc"
      },
      "source": [
        "(x_train, y_train), (x_test, y_test)= get_data()"
      ],
      "execution_count": 26,
      "outputs": [
        {
          "output_type": "stream",
          "text": [
            "(60000, 784) train samples\n",
            "(10000, 784) train samples\n"
          ],
          "name": "stdout"
        }
      ]
    },
    {
      "cell_type": "code",
      "metadata": {
        "id": "rzuEZxwcdrA3",
        "colab_type": "code",
        "colab": {
          "base_uri": "https://localhost:8080/",
          "height": 819
        },
        "outputId": "b8bb65ff-17be-44ec-ac67-4f07af1f7cf8"
      },
      "source": [
        "history = model.fit(x_train, y_train,\n",
        "                    batch_size=batch_size,\n",
        "                    epochs=epochs,\n",
        "                    verbose=1,\n",
        "                    validation_data=(x_test, y_test))"
      ],
      "execution_count": 27,
      "outputs": [
        {
          "output_type": "stream",
          "text": [
            "WARNING:tensorflow:From /usr/local/lib/python3.6/dist-packages/tensorflow/python/ops/math_grad.py:1250: add_dispatch_support.<locals>.wrapper (from tensorflow.python.ops.array_ops) is deprecated and will be removed in a future version.\n",
            "Instructions for updating:\n",
            "Use tf.where in 2.0, which has the same broadcast rule as np.where\n",
            "WARNING:tensorflow:From /usr/local/lib/python3.6/dist-packages/keras/backend/tensorflow_backend.py:1033: The name tf.assign_add is deprecated. Please use tf.compat.v1.assign_add instead.\n",
            "\n",
            "Train on 60000 samples, validate on 10000 samples\n",
            "Epoch 1/20\n",
            "60000/60000 [==============================] - 11s 179us/step - loss: 0.2206 - acc: 0.9350 - val_loss: 0.0938 - val_acc: 0.9714\n",
            "Epoch 2/20\n",
            "60000/60000 [==============================] - 10s 165us/step - loss: 0.0803 - acc: 0.9754 - val_loss: 0.0735 - val_acc: 0.9767\n",
            "Epoch 3/20\n",
            "60000/60000 [==============================] - 10s 165us/step - loss: 0.0507 - acc: 0.9837 - val_loss: 0.0664 - val_acc: 0.9793\n",
            "Epoch 4/20\n",
            "60000/60000 [==============================] - 10s 161us/step - loss: 0.0378 - acc: 0.9869 - val_loss: 0.0666 - val_acc: 0.9811\n",
            "Epoch 5/20\n",
            "60000/60000 [==============================] - 10s 161us/step - loss: 0.0266 - acc: 0.9914 - val_loss: 0.0810 - val_acc: 0.9792\n",
            "Epoch 6/20\n",
            "60000/60000 [==============================] - 10s 168us/step - loss: 0.0210 - acc: 0.9931 - val_loss: 0.0611 - val_acc: 0.9826\n",
            "Epoch 7/20\n",
            "60000/60000 [==============================] - 10s 161us/step - loss: 0.0206 - acc: 0.9931 - val_loss: 0.0755 - val_acc: 0.9810\n",
            "Epoch 8/20\n",
            "60000/60000 [==============================] - 10s 170us/step - loss: 0.0175 - acc: 0.9945 - val_loss: 0.0787 - val_acc: 0.9788\n",
            "Epoch 9/20\n",
            "60000/60000 [==============================] - 10s 160us/step - loss: 0.0158 - acc: 0.9947 - val_loss: 0.0677 - val_acc: 0.9819\n",
            "Epoch 10/20\n",
            "60000/60000 [==============================] - 10s 167us/step - loss: 0.0134 - acc: 0.9954 - val_loss: 0.0946 - val_acc: 0.9783\n",
            "Epoch 11/20\n",
            "60000/60000 [==============================] - 10s 171us/step - loss: 0.0130 - acc: 0.9956 - val_loss: 0.1054 - val_acc: 0.9758\n",
            "Epoch 12/20\n",
            "60000/60000 [==============================] - 10s 163us/step - loss: 0.0142 - acc: 0.9951 - val_loss: 0.0873 - val_acc: 0.9783\n",
            "Epoch 13/20\n",
            "60000/60000 [==============================] - 10s 168us/step - loss: 0.0106 - acc: 0.9967 - val_loss: 0.0806 - val_acc: 0.9818\n",
            "Epoch 14/20\n",
            "60000/60000 [==============================] - 10s 159us/step - loss: 0.0063 - acc: 0.9979 - val_loss: 0.0970 - val_acc: 0.9807\n",
            "Epoch 15/20\n",
            "60000/60000 [==============================] - 10s 162us/step - loss: 0.0108 - acc: 0.9966 - val_loss: 0.0895 - val_acc: 0.9819\n",
            "Epoch 16/20\n",
            "60000/60000 [==============================] - 10s 160us/step - loss: 0.0087 - acc: 0.9972 - val_loss: 0.0880 - val_acc: 0.9820\n",
            "Epoch 17/20\n",
            "60000/60000 [==============================] - 10s 161us/step - loss: 0.0087 - acc: 0.9971 - val_loss: 0.0930 - val_acc: 0.9794\n",
            "Epoch 18/20\n",
            "60000/60000 [==============================] - 9s 154us/step - loss: 0.0088 - acc: 0.9971 - val_loss: 0.0974 - val_acc: 0.9811\n",
            "Epoch 19/20\n",
            "60000/60000 [==============================] - 10s 168us/step - loss: 0.0068 - acc: 0.9977 - val_loss: 0.0763 - val_acc: 0.9841\n",
            "Epoch 20/20\n",
            "60000/60000 [==============================] - 10s 170us/step - loss: 0.0032 - acc: 0.9990 - val_loss: 0.1056 - val_acc: 0.9803\n"
          ],
          "name": "stdout"
        }
      ]
    },
    {
      "cell_type": "code",
      "metadata": {
        "id": "910o2nCMfFTE",
        "colab_type": "code",
        "colab": {
          "base_uri": "https://localhost:8080/",
          "height": 51
        },
        "outputId": "4398c8e1-1757-48f3-b240-eda5c856c3d3"
      },
      "source": [
        "score= model.evaluate(x_test, y_test, verbose=0)\n",
        "print('Test Loss:',score[0])\n",
        "print('Test Accuracy:', score[1])"
      ],
      "execution_count": 32,
      "outputs": [
        {
          "output_type": "stream",
          "text": [
            "Test Loss: 0.10564764755337423\n",
            "Test Accuracy: 0.9803\n"
          ],
          "name": "stdout"
        }
      ]
    }
  ]
}