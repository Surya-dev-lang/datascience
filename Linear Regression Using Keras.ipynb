{
  "nbformat": 4,
  "nbformat_minor": 0,
  "metadata": {
    "colab": {
      "name": "Untitled3.ipynb",
      "provenance": [],
      "collapsed_sections": [],
      "include_colab_link": true
    },
    "kernelspec": {
      "name": "python3",
      "display_name": "Python 3"
    }
  },
  "cells": [
    {
      "cell_type": "markdown",
      "metadata": {
        "id": "view-in-github",
        "colab_type": "text"
      },
      "source": [
        "<a href=\"https://colab.research.google.com/github/Surya-dev-lang/datascience/blob/master/Linear%20Regression%20Using%20Keras.ipynb\" target=\"_parent\"><img src=\"https://colab.research.google.com/assets/colab-badge.svg\" alt=\"Open In Colab\"/></a>"
      ]
    },
    {
      "cell_type": "code",
      "metadata": {
        "id": "ZRAztKYzCCjm",
        "colab_type": "code",
        "colab": {}
      },
      "source": [
        "import numpy as np\n",
        "from keras.layers import Dense\n",
        "from keras.models import Sequential\n",
        "from keras.optimizers import Adam\n",
        "import warnings\n",
        "warnings.filterwarnings('ignore')"
      ],
      "execution_count": 0,
      "outputs": []
    },
    {
      "cell_type": "code",
      "metadata": {
        "id": "FgunRFu1S-6i",
        "colab_type": "code",
        "colab": {}
      },
      "source": [
        "batch_size = 128"
      ],
      "execution_count": 0,
      "outputs": []
    },
    {
      "cell_type": "code",
      "metadata": {
        "id": "Y573h92oTC65",
        "colab_type": "code",
        "colab": {}
      },
      "source": [
        "# Y = 3X + 10\n",
        "def get_data():\n",
        "  x_ = np.random.standard_normal(batch_size)\n",
        "  y_ = 3 * x_ + 10\n",
        "  return x_, y_"
      ],
      "execution_count": 0,
      "outputs": []
    },
    {
      "cell_type": "code",
      "metadata": {
        "id": "XZUqjcwXTbxR",
        "colab_type": "code",
        "colab": {
          "base_uri": "https://localhost:8080/",
          "height": 201
        },
        "outputId": "d6da8349-61c5-4bdc-dd0c-cd8f4e739ac2"
      },
      "source": [
        "model = Sequential()\n",
        "model.add(Dense(1, input_shape=(1, ), activation=None))\n",
        "model.summary()"
      ],
      "execution_count": 8,
      "outputs": [
        {
          "output_type": "stream",
          "text": [
            "Model: \"sequential_4\"\n",
            "_________________________________________________________________\n",
            "Layer (type)                 Output Shape              Param #   \n",
            "=================================================================\n",
            "dense_4 (Dense)              (None, 1)                 2         \n",
            "=================================================================\n",
            "Total params: 2\n",
            "Trainable params: 2\n",
            "Non-trainable params: 0\n",
            "_________________________________________________________________\n"
          ],
          "name": "stdout"
        }
      ]
    },
    {
      "cell_type": "code",
      "metadata": {
        "id": "UqscA_8rT4Q0",
        "colab_type": "code",
        "colab": {
          "base_uri": "https://localhost:8080/",
          "height": 74
        },
        "outputId": "abce9122-7827-46ad-bb87-f9891db4d211"
      },
      "source": [
        "adam = Adam(lr=0.5)\n",
        "model.compile(loss='mse', optimizer=adam)"
      ],
      "execution_count": 9,
      "outputs": [
        {
          "output_type": "stream",
          "text": [
            "WARNING:tensorflow:From /usr/local/lib/python3.6/dist-packages/keras/optimizers.py:793: The name tf.train.Optimizer is deprecated. Please use tf.compat.v1.train.Optimizer instead.\n",
            "\n"
          ],
          "name": "stdout"
        }
      ]
    },
    {
      "cell_type": "code",
      "metadata": {
        "id": "jM2L2lvpUiMn",
        "colab_type": "code",
        "colab": {}
      },
      "source": [
        "x, y = get_data()\n",
        "x_t, y_t = get_data()"
      ],
      "execution_count": 0,
      "outputs": []
    },
    {
      "cell_type": "code",
      "metadata": {
        "id": "6DhSWYccUttG",
        "colab_type": "code",
        "colab": {
          "base_uri": "https://localhost:8080/",
          "height": 1000
        },
        "outputId": "d6c1d041-3ac8-42e2-a277-f44b7e798a2c"
      },
      "source": [
        "history = model.fit(x, y, batch_size=batch_size, epochs=100, verbose=1, validation_data=(x_t, y_t))"
      ],
      "execution_count": 13,
      "outputs": [
        {
          "output_type": "stream",
          "text": [
            "WARNING:tensorflow:From /usr/local/lib/python3.6/dist-packages/keras/backend/tensorflow_backend.py:1033: The name tf.assign_add is deprecated. Please use tf.compat.v1.assign_add instead.\n",
            "\n",
            "WARNING:tensorflow:From /usr/local/lib/python3.6/dist-packages/keras/backend/tensorflow_backend.py:1020: The name tf.assign is deprecated. Please use tf.compat.v1.assign instead.\n",
            "\n",
            "Train on 128 samples, validate on 128 samples\n",
            "Epoch 1/100\n",
            "128/128 [==============================] - 1s 5ms/step - loss: 122.4534 - val_loss: 94.8409\n",
            "Epoch 2/100\n",
            "128/128 [==============================] - 0s 42us/step - loss: 111.3851 - val_loss: 85.9119\n",
            "Epoch 3/100\n",
            "128/128 [==============================] - 0s 25us/step - loss: 99.4037 - val_loss: 77.0606\n",
            "Epoch 4/100\n",
            "128/128 [==============================] - 0s 29us/step - loss: 87.6412 - val_loss: 68.5904\n",
            "Epoch 5/100\n",
            "128/128 [==============================] - 0s 34us/step - loss: 76.5197 - val_loss: 60.6459\n",
            "Epoch 6/100\n",
            "128/128 [==============================] - 0s 43us/step - loss: 66.2412 - val_loss: 53.3014\n",
            "Epoch 7/100\n",
            "128/128 [==============================] - 0s 46us/step - loss: 56.9092 - val_loss: 46.5916\n",
            "Epoch 8/100\n",
            "128/128 [==============================] - 0s 26us/step - loss: 48.5690 - val_loss: 40.5240\n",
            "Epoch 9/100\n",
            "128/128 [==============================] - 0s 73us/step - loss: 41.2252 - val_loss: 35.0854\n",
            "Epoch 10/100\n",
            "128/128 [==============================] - 0s 34us/step - loss: 34.8491 - val_loss: 30.2455\n",
            "Epoch 11/100\n",
            "128/128 [==============================] - 0s 44us/step - loss: 29.3835 - val_loss: 25.9609\n",
            "Epoch 12/100\n",
            "128/128 [==============================] - 0s 35us/step - loss: 24.7479 - val_loss: 22.1792\n",
            "Epoch 13/100\n",
            "128/128 [==============================] - 0s 30us/step - loss: 20.8442 - val_loss: 18.8441\n",
            "Epoch 14/100\n",
            "128/128 [==============================] - 0s 28us/step - loss: 17.5651 - val_loss: 15.9005\n",
            "Epoch 15/100\n",
            "128/128 [==============================] - 0s 30us/step - loss: 14.8031 - val_loss: 13.2989\n",
            "Epoch 16/100\n",
            "128/128 [==============================] - 0s 29us/step - loss: 12.4585 - val_loss: 10.9982\n",
            "Epoch 17/100\n",
            "128/128 [==============================] - 0s 31us/step - loss: 10.4465 - val_loss: 8.9670\n",
            "Epoch 18/100\n",
            "128/128 [==============================] - 0s 41us/step - loss: 8.7000 - val_loss: 7.1825\n",
            "Epoch 19/100\n",
            "128/128 [==============================] - 0s 32us/step - loss: 7.1702 - val_loss: 5.6291\n",
            "Epoch 20/100\n",
            "128/128 [==============================] - 0s 28us/step - loss: 5.8247 - val_loss: 4.2958\n",
            "Epoch 21/100\n",
            "128/128 [==============================] - 0s 26us/step - loss: 4.6444 - val_loss: 3.1742\n",
            "Epoch 22/100\n",
            "128/128 [==============================] - 0s 25us/step - loss: 3.6191 - val_loss: 2.2561\n",
            "Epoch 23/100\n",
            "128/128 [==============================] - 0s 37us/step - loss: 2.7445 - val_loss: 1.5324\n",
            "Epoch 24/100\n",
            "128/128 [==============================] - 0s 32us/step - loss: 2.0190 - val_loss: 0.9920\n",
            "Epoch 25/100\n",
            "128/128 [==============================] - 0s 28us/step - loss: 1.4410 - val_loss: 0.6211\n",
            "Epoch 26/100\n",
            "128/128 [==============================] - 0s 25us/step - loss: 1.0072 - val_loss: 0.4033\n",
            "Epoch 27/100\n",
            "128/128 [==============================] - 0s 37us/step - loss: 0.7114 - val_loss: 0.3193\n",
            "Epoch 28/100\n",
            "128/128 [==============================] - 0s 30us/step - loss: 0.5437 - val_loss: 0.3474\n",
            "Epoch 29/100\n",
            "128/128 [==============================] - 0s 26us/step - loss: 0.4905 - val_loss: 0.4644\n",
            "Epoch 30/100\n",
            "128/128 [==============================] - 0s 27us/step - loss: 0.5342 - val_loss: 0.6458\n",
            "Epoch 31/100\n",
            "128/128 [==============================] - 0s 26us/step - loss: 0.6543 - val_loss: 0.8671\n",
            "Epoch 32/100\n",
            "128/128 [==============================] - 0s 25us/step - loss: 0.8283 - val_loss: 1.1049\n",
            "Epoch 33/100\n",
            "128/128 [==============================] - 0s 32us/step - loss: 1.0328 - val_loss: 1.3378\n",
            "Epoch 34/100\n",
            "128/128 [==============================] - 0s 39us/step - loss: 1.2449 - val_loss: 1.5472\n",
            "Epoch 35/100\n",
            "128/128 [==============================] - 0s 35us/step - loss: 1.4440 - val_loss: 1.7186\n",
            "Epoch 36/100\n",
            "128/128 [==============================] - 0s 37us/step - loss: 1.6127 - val_loss: 1.8417\n",
            "Epoch 37/100\n",
            "128/128 [==============================] - 0s 33us/step - loss: 1.7379 - val_loss: 1.9105\n",
            "Epoch 38/100\n",
            "128/128 [==============================] - 0s 30us/step - loss: 1.8114 - val_loss: 1.9237\n",
            "Epoch 39/100\n",
            "128/128 [==============================] - 0s 38us/step - loss: 1.8301 - val_loss: 1.8838\n",
            "Epoch 40/100\n",
            "128/128 [==============================] - 0s 29us/step - loss: 1.7952 - val_loss: 1.7965\n",
            "Epoch 41/100\n",
            "128/128 [==============================] - 0s 46us/step - loss: 1.7122 - val_loss: 1.6702\n",
            "Epoch 42/100\n",
            "128/128 [==============================] - 0s 24us/step - loss: 1.5894 - val_loss: 1.5146\n",
            "Epoch 43/100\n",
            "128/128 [==============================] - 0s 28us/step - loss: 1.4370 - val_loss: 1.3399\n",
            "Epoch 44/100\n",
            "128/128 [==============================] - 0s 28us/step - loss: 1.2661 - val_loss: 1.1565\n",
            "Epoch 45/100\n",
            "128/128 [==============================] - 0s 25us/step - loss: 1.0874 - val_loss: 0.9734\n",
            "Epoch 46/100\n",
            "128/128 [==============================] - 0s 34us/step - loss: 0.9107 - val_loss: 0.7986\n",
            "Epoch 47/100\n",
            "128/128 [==============================] - 0s 28us/step - loss: 0.7442 - val_loss: 0.6380\n",
            "Epoch 48/100\n",
            "128/128 [==============================] - 0s 28us/step - loss: 0.5938 - val_loss: 0.4960\n",
            "Epoch 49/100\n",
            "128/128 [==============================] - 0s 33us/step - loss: 0.4633 - val_loss: 0.3748\n",
            "Epoch 50/100\n",
            "128/128 [==============================] - 0s 29us/step - loss: 0.3546 - val_loss: 0.2752\n",
            "Epoch 51/100\n",
            "128/128 [==============================] - 0s 31us/step - loss: 0.2674 - val_loss: 0.1965\n",
            "Epoch 52/100\n",
            "128/128 [==============================] - 0s 32us/step - loss: 0.2001 - val_loss: 0.1367\n",
            "Epoch 53/100\n",
            "128/128 [==============================] - 0s 33us/step - loss: 0.1503 - val_loss: 0.0937\n",
            "Epoch 54/100\n",
            "128/128 [==============================] - 0s 34us/step - loss: 0.1148 - val_loss: 0.0645\n",
            "Epoch 55/100\n",
            "128/128 [==============================] - 0s 32us/step - loss: 0.0905 - val_loss: 0.0463\n",
            "Epoch 56/100\n",
            "128/128 [==============================] - 0s 39us/step - loss: 0.0744 - val_loss: 0.0365\n",
            "Epoch 57/100\n",
            "128/128 [==============================] - 0s 41us/step - loss: 0.0640 - val_loss: 0.0328\n",
            "Epoch 58/100\n",
            "128/128 [==============================] - 0s 30us/step - loss: 0.0575 - val_loss: 0.0333\n",
            "Epoch 59/100\n",
            "128/128 [==============================] - 0s 34us/step - loss: 0.0536 - val_loss: 0.0364\n",
            "Epoch 60/100\n",
            "128/128 [==============================] - 0s 36us/step - loss: 0.0514 - val_loss: 0.0412\n",
            "Epoch 61/100\n",
            "128/128 [==============================] - 0s 95us/step - loss: 0.0506 - val_loss: 0.0468\n",
            "Epoch 62/100\n",
            "128/128 [==============================] - 0s 54us/step - loss: 0.0511 - val_loss: 0.0525\n",
            "Epoch 63/100\n",
            "128/128 [==============================] - 0s 34us/step - loss: 0.0527 - val_loss: 0.0581\n",
            "Epoch 64/100\n",
            "128/128 [==============================] - 0s 29us/step - loss: 0.0554 - val_loss: 0.0632\n",
            "Epoch 65/100\n",
            "128/128 [==============================] - 0s 37us/step - loss: 0.0589 - val_loss: 0.0674\n",
            "Epoch 66/100\n",
            "128/128 [==============================] - 0s 33us/step - loss: 0.0629 - val_loss: 0.0706\n",
            "Epoch 67/100\n",
            "128/128 [==============================] - 0s 32us/step - loss: 0.0671 - val_loss: 0.0726\n",
            "Epoch 68/100\n",
            "128/128 [==============================] - 0s 32us/step - loss: 0.0707 - val_loss: 0.0730\n",
            "Epoch 69/100\n",
            "128/128 [==============================] - 0s 37us/step - loss: 0.0734 - val_loss: 0.0720\n",
            "Epoch 70/100\n",
            "128/128 [==============================] - 0s 34us/step - loss: 0.0746 - val_loss: 0.0694\n",
            "Epoch 71/100\n",
            "128/128 [==============================] - 0s 44us/step - loss: 0.0740 - val_loss: 0.0652\n",
            "Epoch 72/100\n",
            "128/128 [==============================] - 0s 1ms/step - loss: 0.0714 - val_loss: 0.0598\n",
            "Epoch 73/100\n",
            "128/128 [==============================] - 0s 35us/step - loss: 0.0668 - val_loss: 0.0534\n",
            "Epoch 74/100\n",
            "128/128 [==============================] - 0s 28us/step - loss: 0.0606 - val_loss: 0.0462\n",
            "Epoch 75/100\n",
            "128/128 [==============================] - 0s 28us/step - loss: 0.0530 - val_loss: 0.0387\n",
            "Epoch 76/100\n",
            "128/128 [==============================] - 0s 28us/step - loss: 0.0447 - val_loss: 0.0313\n",
            "Epoch 77/100\n",
            "128/128 [==============================] - 0s 28us/step - loss: 0.0361 - val_loss: 0.0243\n",
            "Epoch 78/100\n",
            "128/128 [==============================] - 0s 22us/step - loss: 0.0279 - val_loss: 0.0180\n",
            "Epoch 79/100\n",
            "128/128 [==============================] - 0s 30us/step - loss: 0.0203 - val_loss: 0.0126\n",
            "Epoch 80/100\n",
            "128/128 [==============================] - 0s 26us/step - loss: 0.0139 - val_loss: 0.0083\n",
            "Epoch 81/100\n",
            "128/128 [==============================] - 0s 22us/step - loss: 0.0088 - val_loss: 0.0050\n",
            "Epoch 82/100\n",
            "128/128 [==============================] - 0s 25us/step - loss: 0.0050 - val_loss: 0.0027\n",
            "Epoch 83/100\n",
            "128/128 [==============================] - 0s 20us/step - loss: 0.0026 - val_loss: 0.0014\n",
            "Epoch 84/100\n",
            "128/128 [==============================] - 0s 24us/step - loss: 0.0013 - val_loss: 7.6446e-04\n",
            "Epoch 85/100\n",
            "128/128 [==============================] - 0s 30us/step - loss: 9.2853e-04 - val_loss: 7.1703e-04\n",
            "Epoch 86/100\n",
            "128/128 [==============================] - 0s 24us/step - loss: 0.0012 - val_loss: 0.0011\n",
            "Epoch 87/100\n",
            "128/128 [==============================] - 0s 27us/step - loss: 0.0019 - val_loss: 0.0016\n",
            "Epoch 88/100\n",
            "128/128 [==============================] - 0s 28us/step - loss: 0.0027 - val_loss: 0.0023\n",
            "Epoch 89/100\n",
            "128/128 [==============================] - 0s 25us/step - loss: 0.0036 - val_loss: 0.0030\n",
            "Epoch 90/100\n",
            "128/128 [==============================] - 0s 26us/step - loss: 0.0043 - val_loss: 0.0036\n",
            "Epoch 91/100\n",
            "128/128 [==============================] - 0s 27us/step - loss: 0.0048 - val_loss: 0.0041\n",
            "Epoch 92/100\n",
            "128/128 [==============================] - 0s 29us/step - loss: 0.0051 - val_loss: 0.0044\n",
            "Epoch 93/100\n",
            "128/128 [==============================] - 0s 26us/step - loss: 0.0052 - val_loss: 0.0047\n",
            "Epoch 94/100\n",
            "128/128 [==============================] - 0s 26us/step - loss: 0.0052 - val_loss: 0.0048\n",
            "Epoch 95/100\n",
            "128/128 [==============================] - 0s 26us/step - loss: 0.0051 - val_loss: 0.0048\n",
            "Epoch 96/100\n",
            "128/128 [==============================] - 0s 26us/step - loss: 0.0048 - val_loss: 0.0047\n",
            "Epoch 97/100\n",
            "128/128 [==============================] - 0s 29us/step - loss: 0.0046 - val_loss: 0.0045\n",
            "Epoch 98/100\n",
            "128/128 [==============================] - 0s 27us/step - loss: 0.0043 - val_loss: 0.0042\n",
            "Epoch 99/100\n",
            "128/128 [==============================] - 0s 29us/step - loss: 0.0039 - val_loss: 0.0039\n",
            "Epoch 100/100\n",
            "128/128 [==============================] - 0s 25us/step - loss: 0.0036 - val_loss: 0.0035\n"
          ],
          "name": "stdout"
        }
      ]
    },
    {
      "cell_type": "code",
      "metadata": {
        "id": "w9bP7-2XUuQb",
        "colab_type": "code",
        "colab": {
          "base_uri": "https://localhost:8080/",
          "height": 35
        },
        "outputId": "fd2310c2-28f5-47ec-e871-47b66b9e4210"
      },
      "source": [
        "print(model.get_weights())"
      ],
      "execution_count": 14,
      "outputs": [
        {
          "output_type": "stream",
          "text": [
            "[array([[2.974442]], dtype=float32), array([10.053509], dtype=float32)]\n"
          ],
          "name": "stdout"
        }
      ]
    }
  ]
}